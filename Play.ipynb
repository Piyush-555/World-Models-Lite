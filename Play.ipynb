{
 "cells": [
  {
   "cell_type": "code",
   "execution_count": 4,
   "metadata": {},
   "outputs": [],
   "source": [
    "import warnings\n",
    "warnings.filterwarnings(\"ignore\")\n",
    "\n",
    "import torch\n",
    "import pickle\n",
    "import numpy as np\n",
    "from rollout import Rollout\n",
    "from array2gif import write_gif\n",
    "\n",
    "device = torch.device('cpu')"
   ]
  },
  {
   "cell_type": "code",
   "execution_count": 14,
   "metadata": {},
   "outputs": [
    {
     "data": {
      "text/plain": [
       "Controller(\n",
       "  (fc): Linear(in_features=288, out_features=3, bias=True)\n",
       ")"
      ]
     },
     "execution_count": 14,
     "metadata": {},
     "output_type": "execute_result"
    }
   ],
   "source": [
    "with open(\"models/vision.model\", 'rb') as file:\n",
    "    pca = pickle.load(file)\n",
    "\n",
    "cont = torch.load(\"models/controller-best-phase-2.pt\")\n",
    "cont.to(device)\n",
    "cont.eval()"
   ]
  },
  {
   "cell_type": "code",
   "execution_count": 15,
   "metadata": {},
   "outputs": [
    {
     "name": "stdout",
     "output_type": "stream",
     "text": [
      "Track generation: 1030..1300 -> 270-tiles track\n",
      "Reward: 109.39107806691715\n"
     ]
    },
    {
     "data": {
      "text/plain": [
       "109.39107806691715"
      ]
     },
     "execution_count": 15,
     "metadata": {},
     "output_type": "execute_result"
    }
   ],
   "source": [
    "Rollout(pca, cont, render=True)"
   ]
  },
  {
   "cell_type": "code",
   "execution_count": 18,
   "metadata": {},
   "outputs": [],
   "source": [
    "frames = np.array(frames)\n",
    "frames = frames.transpose((0, 3, 1, 2)) # n * channels * width * height\n",
    "write_gif(frames, \"output_phase_1.gif\", fps=30)"
   ]
  },
  {
   "cell_type": "code",
   "execution_count": 9,
   "metadata": {},
   "outputs": [],
   "source": [
    "dataset = [\n",
    "    np.array([\n",
    "        [[255, 0, 0], [255, 0, 0]],  # red intensities\n",
    "        [[0, 255, 0], [0, 255, 0]],  # green intensities\n",
    "        [[0, 0, 255], [0, 0, 255]]   # blue intensities\n",
    "    ]),\n",
    "    np.array([\n",
    "        [[0, 0, 255], [0, 0, 255]],\n",
    "        [[0, 255, 0], [0, 255, 0]],\n",
    "        [[255, 0, 0], [255, 0, 0]]\n",
    "    ])\n",
    "]"
   ]
  },
  {
   "cell_type": "code",
   "execution_count": 17,
   "metadata": {},
   "outputs": [
    {
     "data": {
      "text/plain": [
       "(932, 96, 96, 3)"
      ]
     },
     "execution_count": 17,
     "metadata": {},
     "output_type": "execute_result"
    }
   ],
   "source": [
    "frames.shape"
   ]
  },
  {
   "cell_type": "code",
   "execution_count": null,
   "metadata": {},
   "outputs": [],
   "source": []
  }
 ],
 "metadata": {
  "kernelspec": {
   "display_name": "Python 3",
   "language": "python",
   "name": "python3"
  },
  "language_info": {
   "codemirror_mode": {
    "name": "ipython",
    "version": 3
   },
   "file_extension": ".py",
   "mimetype": "text/x-python",
   "name": "python",
   "nbconvert_exporter": "python",
   "pygments_lexer": "ipython3",
   "version": "3.7.3"
  }
 },
 "nbformat": 4,
 "nbformat_minor": 4
}
