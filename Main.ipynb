{
 "cells": [
  {
   "cell_type": "code",
   "execution_count": 1,
   "metadata": {},
   "outputs": [
    {
     "name": "stderr",
     "output_type": "stream",
     "text": [
      "In /home/piyush/.conda/envs/kaggle/lib/python3.7/site-packages/matplotlib/mpl-data/stylelib/_classic_test.mplstyle: \n",
      "The text.latex.preview rcparam was deprecated in Matplotlib 3.3 and will be removed two minor releases later.\n",
      "In /home/piyush/.conda/envs/kaggle/lib/python3.7/site-packages/matplotlib/mpl-data/stylelib/_classic_test.mplstyle: \n",
      "The mathtext.fallback_to_cm rcparam was deprecated in Matplotlib 3.3 and will be removed two minor releases later.\n",
      "In /home/piyush/.conda/envs/kaggle/lib/python3.7/site-packages/matplotlib/mpl-data/stylelib/_classic_test.mplstyle: Support for setting the 'mathtext.fallback_to_cm' rcParam is deprecated since 3.3 and will be removed two minor releases later; use 'mathtext.fallback : 'cm' instead.\n",
      "In /home/piyush/.conda/envs/kaggle/lib/python3.7/site-packages/matplotlib/mpl-data/stylelib/_classic_test.mplstyle: \n",
      "The validate_bool_maybe_none function was deprecated in Matplotlib 3.3 and will be removed two minor releases later.\n",
      "In /home/piyush/.conda/envs/kaggle/lib/python3.7/site-packages/matplotlib/mpl-data/stylelib/_classic_test.mplstyle: \n",
      "The savefig.jpeg_quality rcparam was deprecated in Matplotlib 3.3 and will be removed two minor releases later.\n",
      "In /home/piyush/.conda/envs/kaggle/lib/python3.7/site-packages/matplotlib/mpl-data/stylelib/_classic_test.mplstyle: \n",
      "The keymap.all_axes rcparam was deprecated in Matplotlib 3.3 and will be removed two minor releases later.\n",
      "In /home/piyush/.conda/envs/kaggle/lib/python3.7/site-packages/matplotlib/mpl-data/stylelib/_classic_test.mplstyle: \n",
      "The animation.avconv_path rcparam was deprecated in Matplotlib 3.3 and will be removed two minor releases later.\n",
      "In /home/piyush/.conda/envs/kaggle/lib/python3.7/site-packages/matplotlib/mpl-data/stylelib/_classic_test.mplstyle: \n",
      "The animation.avconv_args rcparam was deprecated in Matplotlib 3.3 and will be removed two minor releases later.\n"
     ]
    }
   ],
   "source": [
    "import numpy as np\n",
    "import os\n",
    "import pickle\n",
    "import torch\n",
    "from torch import nn\n",
    "import torch.multiprocessing as mp\n",
    "import matplotlib.pyplot as plt\n",
    "from sklearn.decomposition import PCA\n",
    "\n",
    "from rollout import Rollout\n",
    "from controller import Controller\n",
    "\n",
    "device = torch.device('cuda')\n",
    "mp.set_start_method('spawn')"
   ]
  },
  {
   "cell_type": "code",
   "execution_count": 2,
   "metadata": {},
   "outputs": [
    {
     "name": "stdout",
     "output_type": "stream",
     "text": [
      "(10000, 27648)\n"
     ]
    }
   ],
   "source": [
    "frames = np.load(\"data/frames.npy\")\n",
    "frames = frames.reshape(frames.shape[0], -1)\n",
    "frames = frames / 255\n",
    "frames = frames.astype(np.float64)\n",
    "print(frames.shape)"
   ]
  },
  {
   "cell_type": "code",
   "execution_count": 3,
   "metadata": {},
   "outputs": [],
   "source": [
    "try:\n",
    "    with open(\"models/vision.model\", 'rb') as file:\n",
    "        pca = pickle.load(file)\n",
    "except FileNotFoundError:\n",
    "    pca = PCA(n_components=288)\n",
    "    pca.fit(frames)\n",
    "    with open(\"models/vision.model\", 'wb') as file:\n",
    "        pickle.dump(pca, file)"
   ]
  },
  {
   "cell_type": "code",
   "execution_count": 4,
   "metadata": {},
   "outputs": [
    {
     "data": {
      "image/png": "[encoded data removed]",
      "text/plain": [
       "<Figure size 432x288 with 1 Axes>"
      ]
     },
     "metadata": {
      "needs_background": "light"
     },
     "output_type": "display_data"
    }
   ],
   "source": [
    "plt.plot(np.cumsum(pca.explained_variance_)/np.sum(pca.explained_variance_))\n",
    "plt.title(\"Proportion of variance explained by all components till r\")\n",
    "plt.xlabel(\"r - Number of Components\")\n",
    "plt.ylabel(\"variance explained by all r components\")\n",
    "plt.show()"
   ]
  },
  {
   "cell_type": "code",
   "execution_count": 5,
   "metadata": {},
   "outputs": [],
   "source": [
    "restore = True\n",
    "if restore:\n",
    "    cont = torch.load(\"models/controller-best-phase-1.pt\")\n",
    "else:\n",
    "    nodes = 288\n",
    "    cont = Controller(nodes)\n",
    "cont.to(device)\n",
    "cont.share_memory()\n",
    "cont.eval()\n",
    "\n",
    "cont.__name__ = 'global'"
   ]
  },
  {
   "cell_type": "code",
   "execution_count": 6,
   "metadata": {},
   "outputs": [],
   "source": [
    "curr_best_score  = curr_mean_score = 0"
   ]
  },
  {
   "cell_type": "code",
   "execution_count": 7,
   "metadata": {},
   "outputs": [],
   "source": [
    "from collections import OrderedDict \n",
    "\n",
    "NUM_GENERATION = 100\n",
    "NUM_AVERAGE_REWARD_OVER = 4\n",
    "\n",
    "def param2numpy(model):\n",
    "    params = model.parameters()\n",
    "    w = next(params) # shape 3x288\n",
    "    b = next(params) # shape 3\n",
    "    flat = torch.cat([w.flatten(), b], dim=-1)\n",
    "    return flat.detach().cpu().numpy()\n",
    "\n",
    "def load_param(model, params):\n",
    "    w, b = params[:864], params[864:]\n",
    "    w, b = [torch.tensor(i).cuda() for i in (w, b)]\n",
    "    w = w.reshape(3, 288)\n",
    "    updated_dict = OrderedDict({\"fc.weight\":w, \"fc.bias\":b})\n",
    "    model.load_state_dict(updated_dict)\n",
    "\n",
    "def get_reward_for_solution(soln):\n",
    "    global cont\n",
    "    global pca\n",
    "    load_param(cont, soln)\n",
    "    cont.double()\n",
    "    \n",
    "    pool = mp.Pool(processes=4)\n",
    "    rewards = pool.starmap(Rollout, [[pca, cont, False] for i in range(4)])\n",
    "    pool.close()\n",
    "\n",
    "    return -np.mean(rewards).item()"
   ]
  },
  {
   "cell_type": "code",
   "execution_count": 8,
   "metadata": {},
   "outputs": [
    {
     "name": "stdout",
     "output_type": "stream",
     "text": [
      "(12_w,24)-aCMA-ES (mu_w=7.0,w_1=24%) in dimension 867 (seed=308685, Tue Nov 24 16:56:06 2020)\n"
     ]
    }
   ],
   "source": [
    "import cma\n",
    "es = cma.CMAEvolutionStrategy(param2numpy(cont), 0.1)"
   ]
  },
  {
   "cell_type": "code",
   "execution_count": null,
   "metadata": {},
   "outputs": [
    {
     "name": "stdout",
     "output_type": "stream",
     "text": [
      "Generation:: 1..\n",
      "Best saved with reward 356.81451614513423\n",
      "Model saved as: models/controller-generation-0-phase-2.pt\n",
      "Iterat #Fevals   function value  axis ratio  sigma  min&max std  t[m:s]\n",
      "    1     24 -3.568145161451342e+02 1.0e+00 9.91e-02  1e-01  1e-01 20:40.9\n",
      "Generation:: 2..\n",
      "    2     48 -3.393237632951692e+02 1.0e+00 9.83e-02  1e-01  1e-01 41:16.3\n",
      "Generation:: 3..\n",
      "    3     72 -3.106843643698775e+02 1.0e+00 9.76e-02  1e-01  1e-01 61:56.8\n",
      "Generation:: 4..\n",
      "Best saved with reward 408.85248898540806\n",
      "    4     96 -4.088524889854081e+02 1.0e+00 9.68e-02  1e-01  1e-01 82:33.4\n",
      "Generation:: 5..\n",
      "    5    120 -3.931747219128434e+02 1.0e+00 9.62e-02  1e-01  1e-01 103:03.4\n",
      "Generation:: 6..\n",
      "Best saved with reward 415.5138948552819\n",
      "    6    144 -4.155138948552819e+02 1.0e+00 9.55e-02  1e-01  1e-01 123:34.7\n",
      "Generation:: 7..\n",
      "Best saved with reward 463.88141432273494\n",
      "    7    168 -4.638814143227349e+02 1.0e+00 9.49e-02  9e-02  9e-02 144:08.8\n",
      "Generation:: 8..\n",
      "    8    192 -4.481556667599655e+02 1.0e+00 9.43e-02  9e-02  9e-02 164:39.9\n",
      "Generation:: 9..\n",
      "Best saved with reward 526.4869429901477\n",
      "    9    216 -5.264869429901477e+02 1.0e+00 9.37e-02  9e-02  9e-02 185:15.4\n",
      "Generation:: 10..\n",
      "Best saved with reward 573.5648717738791\n",
      "   10    240 -5.735648717738791e+02 1.0e+00 9.32e-02  9e-02  9e-02 205:45.0\n",
      "Generation:: 11..\n",
      "Model saved as: models/controller-generation-10-phase-2.pt\n",
      "   11    264 -4.344684936741048e+02 1.0e+00 9.27e-02  9e-02  9e-02 228:29.6\n",
      "Generation:: 12..\n",
      "   12    288 -5.557682305096629e+02 1.0e+00 9.22e-02  9e-02  9e-02 249:22.5\n",
      "Generation:: 13..\n",
      "   13    312 -4.690387349954431e+02 1.0e+00 9.17e-02  9e-02  9e-02 270:04.1\n",
      "Generation:: 14..\n",
      "   14    336 -5.308894026811813e+02 1.0e+00 9.12e-02  9e-02  9e-02 290:40.2\n",
      "Generation:: 15..\n",
      "   15    360 -5.380819714910594e+02 1.0e+00 9.08e-02  9e-02  9e-02 311:14.1\n",
      "Generation:: 16..\n",
      "   16    384 -5.355968518605890e+02 1.0e+00 9.03e-02  9e-02  9e-02 331:52.8\n",
      "Generation:: 17..\n",
      "   17    408 -4.914618769147339e+02 1.0e+00 8.99e-02  9e-02  9e-02 356:03.9\n",
      "Generation:: 18..\n",
      "Best saved with reward 612.589046693033\n",
      "   18    432 -6.125890466930330e+02 1.0e+00 8.95e-02  9e-02  9e-02 378:47.4\n",
      "Generation:: 19..\n",
      "   19    456 -5.151551547136982e+02 1.0e+00 8.91e-02  9e-02  9e-02 403:07.0\n",
      "Generation:: 20..\n",
      "   20    480 -4.646030917687348e+02 1.0e+00 8.87e-02  9e-02  9e-02 428:26.3\n",
      "Generation:: 21..\n",
      "Model saved as: models/controller-generation-20-phase-2.pt\n",
      "   21    504 -5.785427802227975e+02 1.0e+00 8.83e-02  9e-02  9e-02 451:51.0\n",
      "Generation:: 22..\n",
      "   22    528 -5.161775298413198e+02 1.0e+00 8.80e-02  9e-02  9e-02 472:30.7\n",
      "Generation:: 23..\n",
      "   23    552 -5.537075180699446e+02 1.0e+00 8.76e-02  9e-02  9e-02 493:11.0\n",
      "Generation:: 24..\n",
      "   24    576 -5.107765260810033e+02 1.0e+00 8.73e-02  9e-02  9e-02 513:48.8\n",
      "Generation:: 25..\n",
      "   25    600 -5.718576226827070e+02 1.0e+00 8.70e-02  9e-02  9e-02 534:31.0\n",
      "Generation:: 26..\n",
      "   26    624 -5.830015648126983e+02 1.0e+00 8.66e-02  9e-02  9e-02 555:15.5\n",
      "Generation:: 27..\n",
      "Best saved with reward 621.3626401910846\n",
      "   27    648 -6.213626401910846e+02 1.0e+00 8.63e-02  9e-02  9e-02 575:51.0\n",
      "Generation:: 28..\n",
      "   28    672 -5.945038801143191e+02 1.0e+00 8.60e-02  9e-02  9e-02 596:28.2\n",
      "Generation:: 29..\n",
      "   29    696 -5.105119283356819e+02 1.0e+00 8.57e-02  9e-02  9e-02 617:12.8\n",
      "Generation:: 30..\n",
      "Best saved with reward 640.876805907491\n",
      "   30    720 -6.408768059074910e+02 1.0e+00 8.54e-02  9e-02  9e-02 637:49.2\n",
      "Generation:: 31..\n",
      "Model saved as: models/controller-generation-30-phase-2.pt\n",
      "   31    744 -5.863431626973542e+02 1.0e+00 8.51e-02  9e-02  9e-02 658:28.9\n",
      "Generation:: 32..\n",
      "   32    768 -5.459192675363277e+02 1.0e+00 8.49e-02  8e-02  8e-02 678:59.2\n",
      "Generation:: 33..\n",
      "Best saved with reward 641.2279198331375\n",
      "   33    792 -6.412279198331375e+02 1.0e+00 8.46e-02  8e-02  8e-02 699:45.6\n",
      "Generation:: 34..\n",
      "   34    816 -5.763560639086122e+02 1.0e+00 8.43e-02  8e-02  8e-02 720:29.3\n",
      "Generation:: 35..\n",
      "   35    840 -6.391360131994272e+02 1.0e+00 8.41e-02  8e-02  8e-02 741:08.1\n",
      "Generation:: 36..\n",
      "   36    864 -5.935894470126225e+02 1.0e+00 8.38e-02  8e-02  8e-02 761:54.3\n",
      "Generation:: 37..\n",
      "   37    888 -6.180419391574467e+02 1.0e+00 8.36e-02  8e-02  8e-02 782:34.4\n",
      "Generation:: 38..\n",
      "Best saved with reward 737.675958945778\n",
      "   38    912 -7.376759589457780e+02 1.0e+00 8.33e-02  8e-02  8e-02 803:13.8\n",
      "Generation:: 39..\n",
      "   39    936 -6.392778816813773e+02 1.0e+00 8.31e-02  8e-02  8e-02 823:58.1\n",
      "Generation:: 40..\n",
      "   40    960 -7.328222490687501e+02 1.0e+00 8.28e-02  8e-02  8e-02 844:40.3\n",
      "Generation:: 41..\n",
      "Model saved as: models/controller-generation-40-phase-2.pt\n",
      "   41    984 -5.955246085839092e+02 1.0e+00 8.26e-02  8e-02  8e-02 865:28.0\n",
      "Generation:: 42..\n",
      "   42   1008 -6.431814514356264e+02 1.0e+00 8.24e-02  8e-02  8e-02 886:05.6\n",
      "Generation:: 43..\n"
     ]
    }
   ],
   "source": [
    "for generation in range(NUM_GENERATION):\n",
    "    assert cont.__name__ == 'global'\n",
    "\n",
    "    print(\"Generation:: {}..\".format(generation + 1))\n",
    "    solutions = es.ask(24)\n",
    "\n",
    "    function_values = [get_reward_for_solution(s) for s in solutions]\n",
    "\n",
    "    if -min(function_values) > curr_best_score:\n",
    "        curr_best_score = -min(function_values)\n",
    "        torch.save(cont, \"models/controller-best-phase-2.pt\")\n",
    "        print(\"Best saved with reward {}\".format(-min(function_values)))\n",
    "\n",
    "    if generation%10==0:\n",
    "        torch.save(cont, \"models/controller-generation-{}-phase-2.pt\".format(generation))\n",
    "        print(\"Model saved as: models/controller-generation-{}-phase-2.pt\".format(generation))\n",
    "\n",
    "    es.tell(solutions, function_values)\n",
    "    es.logger.add()\n",
    "    es.disp()\n",
    "\n",
    "torch.save(cont, \"models/controller-generation-last\")"
   ]
  },
  {
   "cell_type": "code",
   "execution_count": null,
   "metadata": {},
   "outputs": [],
   "source": []
  }
 ],
 "metadata": {
  "kernelspec": {
   "display_name": "Python 3",
   "language": "python",
   "name": "python3"
  },
  "language_info": {
   "codemirror_mode": {
    "name": "ipython",
    "version": 3
   },
   "file_extension": ".py",
   "mimetype": "text/x-python",
   "name": "python",
   "nbconvert_exporter": "python",
   "pygments_lexer": "ipython3",
   "version": "3.7.3"
  }
 },
 "nbformat": 4,
 "nbformat_minor": 4
}
