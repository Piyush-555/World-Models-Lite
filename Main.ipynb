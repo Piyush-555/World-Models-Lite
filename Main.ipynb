{
 "cells": [
  {
   "cell_type": "code",
   "execution_count": 1,
   "metadata": {},
   "outputs": [],
   "source": [
    "import warnings\n",
    "warnings.filterwarnings(\"ignore\")\n",
    "\n",
    "import numpy as np\n",
    "import os\n",
    "import pickle\n",
    "import torch\n",
    "from torch import nn\n",
    "import torch.multiprocessing as mp\n",
    "import matplotlib.pyplot as plt\n",
    "from sklearn.decomposition import PCA\n",
    "\n",
    "from rollout import Rollout\n",
    "from controller import Controller\n",
    "\n",
    "device = torch.device('cpu')\n",
    "mp.set_start_method('spawn')"
   ]
  },
  {
   "cell_type": "code",
   "execution_count": 2,
   "metadata": {},
   "outputs": [
    {
     "name": "stdout",
     "output_type": "stream",
     "text": [
      "(10000, 27648)\n"
     ]
    }
   ],
   "source": [
    "frames = np.load(\"data/frames.npy\")\n",
    "frames = frames.reshape(frames.shape[0], -1)\n",
    "frames = frames / 255\n",
    "frames = frames.astype(np.float64)\n",
    "print(frames.shape)"
   ]
  },
  {
   "cell_type": "code",
   "execution_count": 3,
   "metadata": {},
   "outputs": [],
   "source": [
    "try:\n",
    "    with open(\"modelsv2/vision.model\", 'rb') as file:\n",
    "        pca = pickle.load(file)\n",
    "except FileNotFoundError:\n",
    "    pca = PCA(n_components=297)\n",
    "    pca.fit(frames)\n",
    "    with open(\"modelsv2/vision.model\", 'wb') as file:\n",
    "        pickle.dump(pca, file)"
   ]
  },
  {
   "cell_type": "code",
   "execution_count": 4,
   "metadata": {},
   "outputs": [
    {
     "data": {
      "image/png": "[encoded data removed]",
      "text/plain": [
       "<Figure size 432x288 with 1 Axes>"
      ]
     },
     "metadata": {
      "needs_background": "light"
     },
     "output_type": "display_data"
    }
   ],
   "source": [
    "plt.plot(np.cumsum(pca.explained_variance_)/np.sum(pca.explained_variance_))\n",
    "plt.title(\"Proportion of variance explained by all components till r\")\n",
    "plt.xlabel(\"r - Number of Components\")\n",
    "plt.ylabel(\"variance explained by all r components\")\n",
    "plt.show()"
   ]
  },
  {
   "cell_type": "code",
   "execution_count": 5,
   "metadata": {},
   "outputs": [],
   "source": [
    "restore = True\n",
    "nodes = 300\n",
    "if restore:\n",
    "    cont = torch.load(\"modelsv2/controller-best-v2.pt\")\n",
    "else:\n",
    "    cont = Controller(nodes)\n",
    "cont.to(device)\n",
    "cont.share_memory()\n",
    "cont.eval()\n",
    "\n",
    "cont.__name__ = 'global'"
   ]
  },
  {
   "cell_type": "code",
   "execution_count": 6,
   "metadata": {},
   "outputs": [],
   "source": [
    "curr_best_score  = curr_mean_score = 0"
   ]
  },
  {
   "cell_type": "code",
   "execution_count": 7,
   "metadata": {},
   "outputs": [],
   "source": [
    "from collections import OrderedDict \n",
    "\n",
    "NUM_GENERATION = 100\n",
    "NUM_AVERAGE_REWARD_OVER = 4\n",
    "\n",
    "def param2numpy(model):\n",
    "    params = model.parameters()\n",
    "    w = next(params) # shape 3xnodes\n",
    "    b = next(params) # shape 3\n",
    "    flat = torch.cat([w.flatten(), b], dim=-1)\n",
    "    return flat.detach().cpu().numpy()\n",
    "\n",
    "def load_param(model, params):\n",
    "    split = nodes * 3\n",
    "    w, b = params[:split], params[split:]\n",
    "    w, b = [torch.tensor(i).to(device) for i in (w, b)]\n",
    "    w = w.reshape(3, nodes)\n",
    "    updated_dict = OrderedDict({\"fc.weight\":w, \"fc.bias\":b})\n",
    "    model.load_state_dict(updated_dict)\n",
    "\n",
    "def get_reward_for_solution(soln):\n",
    "    average_over = 4\n",
    "    global cont\n",
    "    global pca\n",
    "    load_param(cont, soln)\n",
    "    cont.double()\n",
    "    \n",
    "    pool = mp.Pool(processes=4)\n",
    "    rewards = pool.starmap(Rollout, [[pca, cont, False] for i in range(average_over)])\n",
    "    pool.close()\n",
    "\n",
    "    return -np.mean(rewards).item()"
   ]
  },
  {
   "cell_type": "code",
   "execution_count": 8,
   "metadata": {},
   "outputs": [
    {
     "name": "stdout",
     "output_type": "stream",
     "text": [
      "(12_w,24)-aCMA-ES (mu_w=7.0,w_1=24%) in dimension 903 (seed=1017749, Wed Dec  2 18:07:19 2020)\n"
     ]
    }
   ],
   "source": [
    "import cma\n",
    "es = cma.CMAEvolutionStrategy(param2numpy(cont), 0.09)"
   ]
  },
  {
   "cell_type": "code",
   "execution_count": 9,
   "metadata": {},
   "outputs": [
    {
     "name": "stdout",
     "output_type": "stream",
     "text": [
      "Generation:: 11..\n",
      "Best saved with reward 331.25256941646387\n",
      "Model saved as: modelsv2/controller-generation-10-v2.pt\n",
      "Iterat #Fevals   function value  axis ratio  sigma  min&max std  t[m:s]\n",
      "    1     24 -3.312525694164639e+02 1.0e+00 8.92e-02  9e-02  9e-02 38:12.0\n",
      "Generation:: 12..\n",
      "Best saved with reward 427.50984557206857\n",
      "    2     48 -4.275098455720686e+02 1.0e+00 8.85e-02  9e-02  9e-02 76:26.1\n",
      "Generation:: 13..\n",
      "    3     72 -4.037836025126292e+02 1.0e+00 8.79e-02  9e-02  9e-02 114:50.7\n",
      "Generation:: 14..\n",
      "Best saved with reward 521.358216519294\n",
      "    4     96 -5.213582165192940e+02 1.0e+00 8.73e-02  9e-02  9e-02 153:13.7\n",
      "Generation:: 15..\n",
      "Best saved with reward 533.25835560361\n",
      "    5    120 -5.332583556036100e+02 1.0e+00 8.67e-02  9e-02  9e-02 191:36.6\n",
      "Generation:: 16..\n",
      "Best saved with reward 655.1236473980032\n",
      "    6    144 -6.551236473980032e+02 1.0e+00 8.61e-02  9e-02  9e-02 229:28.7\n",
      "Generation:: 17..\n",
      "    7    168 -5.527597283723799e+02 1.0e+00 8.56e-02  9e-02  9e-02 267:43.1\n",
      "Generation:: 18..\n",
      "    8    192 -5.185864348622116e+02 1.0e+00 8.51e-02  9e-02  9e-02 306:23.8\n",
      "Generation:: 19..\n",
      "    9    216 -4.660785988064841e+02 1.0e+00 8.46e-02  8e-02  8e-02 344:40.4\n",
      "Generation:: 20..\n",
      "   10    240 -4.960545165829361e+02 1.0e+00 8.41e-02  8e-02  8e-02 383:04.4\n",
      "Generation:: 21..\n",
      "Model saved as: modelsv2/controller-generation-20-v2.pt\n",
      "   11    264 -5.789137955509858e+02 1.0e+00 8.37e-02  8e-02  8e-02 421:17.3\n",
      "Generation:: 22..\n",
      "   12    288 -5.434351871135420e+02 1.0e+00 8.32e-02  8e-02  8e-02 459:26.3\n",
      "Generation:: 23..\n",
      "   13    312 -6.429808425751178e+02 1.0e+00 8.28e-02  8e-02  8e-02 497:44.0\n",
      "Generation:: 24..\n",
      "   14    336 -5.827054638627019e+02 1.0e+00 8.24e-02  8e-02  8e-02 536:01.2\n",
      "Generation:: 25..\n",
      "   15    360 -5.663369411536531e+02 1.0e+00 8.20e-02  8e-02  8e-02 574:22.6\n",
      "Generation:: 26..\n",
      "   16    384 -6.409388920818627e+02 1.0e+00 8.16e-02  8e-02  8e-02 612:36.6\n",
      "Generation:: 27..\n",
      "   17    408 -6.320609605559861e+02 1.0e+00 8.12e-02  8e-02  8e-02 651:03.8\n",
      "Generation:: 28..\n",
      "   18    432 -6.263190152426995e+02 1.0e+00 8.09e-02  8e-02  8e-02 689:17.2\n",
      "Generation:: 29..\n",
      "Best saved with reward 693.3947396451728\n",
      "   19    456 -6.933947396451728e+02 1.0e+00 8.06e-02  8e-02  8e-02 727:38.6\n",
      "Generation:: 30..\n",
      "   20    480 -6.575131955570324e+02 1.0e+00 8.02e-02  8e-02  8e-02 765:54.7\n",
      "Generation:: 31..\n",
      "Model saved as: modelsv2/controller-generation-30-v2.pt\n",
      "   21    504 -6.626827964688160e+02 1.0e+00 7.99e-02  8e-02  8e-02 804:19.0\n",
      "Generation:: 32..\n",
      "   22    528 -6.737352328386708e+02 1.0e+00 7.96e-02  8e-02  8e-02 842:35.5\n",
      "Generation:: 33..\n",
      "   23    552 -6.771180653579306e+02 1.0e+00 7.93e-02  8e-02  8e-02 880:56.0\n",
      "Generation:: 34..\n",
      "   24    576 -6.678399618248224e+02 1.0e+00 7.90e-02  8e-02  8e-02 919:19.3\n",
      "Generation:: 35..\n"
     ]
    },
    {
     "ename": "KeyboardInterrupt",
     "evalue": "",
     "output_type": "error",
     "traceback": [
      "\u001b[0;31m---------------------------------------------------------------------------\u001b[0m",
      "\u001b[0;31mKeyboardInterrupt\u001b[0m                         Traceback (most recent call last)",
      "\u001b[0;32m<ipython-input-9-b9d32e0c3e68>\u001b[0m in \u001b[0;36m<module>\u001b[0;34m\u001b[0m\n\u001b[1;32m      5\u001b[0m     \u001b[0msolutions\u001b[0m \u001b[0;34m=\u001b[0m \u001b[0mes\u001b[0m\u001b[0;34m.\u001b[0m\u001b[0mask\u001b[0m\u001b[0;34m(\u001b[0m\u001b[0;36m48\u001b[0m\u001b[0;34m)\u001b[0m\u001b[0;34m\u001b[0m\u001b[0;34m\u001b[0m\u001b[0m\n\u001b[1;32m      6\u001b[0m \u001b[0;34m\u001b[0m\u001b[0m\n\u001b[0;32m----> 7\u001b[0;31m     \u001b[0mfunction_values\u001b[0m \u001b[0;34m=\u001b[0m \u001b[0;34m[\u001b[0m\u001b[0mget_reward_for_solution\u001b[0m\u001b[0;34m(\u001b[0m\u001b[0ms\u001b[0m\u001b[0;34m)\u001b[0m \u001b[0;32mfor\u001b[0m \u001b[0ms\u001b[0m \u001b[0;32min\u001b[0m \u001b[0msolutions\u001b[0m\u001b[0;34m]\u001b[0m\u001b[0;34m\u001b[0m\u001b[0;34m\u001b[0m\u001b[0m\n\u001b[0m\u001b[1;32m      8\u001b[0m \u001b[0;34m\u001b[0m\u001b[0m\n\u001b[1;32m      9\u001b[0m     \u001b[0;32mif\u001b[0m \u001b[0;34m-\u001b[0m\u001b[0mmin\u001b[0m\u001b[0;34m(\u001b[0m\u001b[0mfunction_values\u001b[0m\u001b[0;34m)\u001b[0m \u001b[0;34m>\u001b[0m \u001b[0mcurr_best_score\u001b[0m\u001b[0;34m:\u001b[0m\u001b[0;34m\u001b[0m\u001b[0;34m\u001b[0m\u001b[0m\n",
      "\u001b[0;32m<ipython-input-9-b9d32e0c3e68>\u001b[0m in \u001b[0;36m<listcomp>\u001b[0;34m(.0)\u001b[0m\n\u001b[1;32m      5\u001b[0m     \u001b[0msolutions\u001b[0m \u001b[0;34m=\u001b[0m \u001b[0mes\u001b[0m\u001b[0;34m.\u001b[0m\u001b[0mask\u001b[0m\u001b[0;34m(\u001b[0m\u001b[0;36m48\u001b[0m\u001b[0;34m)\u001b[0m\u001b[0;34m\u001b[0m\u001b[0;34m\u001b[0m\u001b[0m\n\u001b[1;32m      6\u001b[0m \u001b[0;34m\u001b[0m\u001b[0m\n\u001b[0;32m----> 7\u001b[0;31m     \u001b[0mfunction_values\u001b[0m \u001b[0;34m=\u001b[0m \u001b[0;34m[\u001b[0m\u001b[0mget_reward_for_solution\u001b[0m\u001b[0;34m(\u001b[0m\u001b[0ms\u001b[0m\u001b[0;34m)\u001b[0m \u001b[0;32mfor\u001b[0m \u001b[0ms\u001b[0m \u001b[0;32min\u001b[0m \u001b[0msolutions\u001b[0m\u001b[0;34m]\u001b[0m\u001b[0;34m\u001b[0m\u001b[0;34m\u001b[0m\u001b[0m\n\u001b[0m\u001b[1;32m      8\u001b[0m \u001b[0;34m\u001b[0m\u001b[0m\n\u001b[1;32m      9\u001b[0m     \u001b[0;32mif\u001b[0m \u001b[0;34m-\u001b[0m\u001b[0mmin\u001b[0m\u001b[0;34m(\u001b[0m\u001b[0mfunction_values\u001b[0m\u001b[0;34m)\u001b[0m \u001b[0;34m>\u001b[0m \u001b[0mcurr_best_score\u001b[0m\u001b[0;34m:\u001b[0m\u001b[0;34m\u001b[0m\u001b[0;34m\u001b[0m\u001b[0m\n",
      "\u001b[0;32m<ipython-input-7-2b4144b01809>\u001b[0m in \u001b[0;36mget_reward_for_solution\u001b[0;34m(soln)\u001b[0m\n\u001b[1;32m     27\u001b[0m \u001b[0;34m\u001b[0m\u001b[0m\n\u001b[1;32m     28\u001b[0m     \u001b[0mpool\u001b[0m \u001b[0;34m=\u001b[0m \u001b[0mmp\u001b[0m\u001b[0;34m.\u001b[0m\u001b[0mPool\u001b[0m\u001b[0;34m(\u001b[0m\u001b[0mprocesses\u001b[0m\u001b[0;34m=\u001b[0m\u001b[0;36m4\u001b[0m\u001b[0;34m)\u001b[0m\u001b[0;34m\u001b[0m\u001b[0;34m\u001b[0m\u001b[0m\n\u001b[0;32m---> 29\u001b[0;31m     \u001b[0mrewards\u001b[0m \u001b[0;34m=\u001b[0m \u001b[0mpool\u001b[0m\u001b[0;34m.\u001b[0m\u001b[0mstarmap\u001b[0m\u001b[0;34m(\u001b[0m\u001b[0mRollout\u001b[0m\u001b[0;34m,\u001b[0m \u001b[0;34m[\u001b[0m\u001b[0;34m[\u001b[0m\u001b[0mpca\u001b[0m\u001b[0;34m,\u001b[0m \u001b[0mcont\u001b[0m\u001b[0;34m,\u001b[0m \u001b[0;32mFalse\u001b[0m\u001b[0;34m]\u001b[0m \u001b[0;32mfor\u001b[0m \u001b[0mi\u001b[0m \u001b[0;32min\u001b[0m \u001b[0mrange\u001b[0m\u001b[0;34m(\u001b[0m\u001b[0maverage_over\u001b[0m\u001b[0;34m)\u001b[0m\u001b[0;34m]\u001b[0m\u001b[0;34m)\u001b[0m\u001b[0;34m\u001b[0m\u001b[0;34m\u001b[0m\u001b[0m\n\u001b[0m\u001b[1;32m     30\u001b[0m     \u001b[0mpool\u001b[0m\u001b[0;34m.\u001b[0m\u001b[0mclose\u001b[0m\u001b[0;34m(\u001b[0m\u001b[0;34m)\u001b[0m\u001b[0;34m\u001b[0m\u001b[0;34m\u001b[0m\u001b[0m\n\u001b[1;32m     31\u001b[0m \u001b[0;34m\u001b[0m\u001b[0m\n",
      "\u001b[0;32m~/.conda/envs/kaggle/lib/python3.7/multiprocessing/pool.py\u001b[0m in \u001b[0;36mstarmap\u001b[0;34m(self, func, iterable, chunksize)\u001b[0m\n\u001b[1;32m    274\u001b[0m         \u001b[0;31m`\u001b[0m\u001b[0mfunc\u001b[0m\u001b[0;31m`\u001b[0m \u001b[0;32mand\u001b[0m \u001b[0;34m(\u001b[0m\u001b[0ma\u001b[0m\u001b[0;34m,\u001b[0m \u001b[0mb\u001b[0m\u001b[0;34m)\u001b[0m \u001b[0mbecomes\u001b[0m \u001b[0mfunc\u001b[0m\u001b[0;34m(\u001b[0m\u001b[0ma\u001b[0m\u001b[0;34m,\u001b[0m \u001b[0mb\u001b[0m\u001b[0;34m)\u001b[0m\u001b[0;34m.\u001b[0m\u001b[0;34m\u001b[0m\u001b[0;34m\u001b[0m\u001b[0m\n\u001b[1;32m    275\u001b[0m         '''\n\u001b[0;32m--> 276\u001b[0;31m         \u001b[0;32mreturn\u001b[0m \u001b[0mself\u001b[0m\u001b[0;34m.\u001b[0m\u001b[0m_map_async\u001b[0m\u001b[0;34m(\u001b[0m\u001b[0mfunc\u001b[0m\u001b[0;34m,\u001b[0m \u001b[0miterable\u001b[0m\u001b[0;34m,\u001b[0m \u001b[0mstarmapstar\u001b[0m\u001b[0;34m,\u001b[0m \u001b[0mchunksize\u001b[0m\u001b[0;34m)\u001b[0m\u001b[0;34m.\u001b[0m\u001b[0mget\u001b[0m\u001b[0;34m(\u001b[0m\u001b[0;34m)\u001b[0m\u001b[0;34m\u001b[0m\u001b[0;34m\u001b[0m\u001b[0m\n\u001b[0m\u001b[1;32m    277\u001b[0m \u001b[0;34m\u001b[0m\u001b[0m\n\u001b[1;32m    278\u001b[0m     def starmap_async(self, func, iterable, chunksize=None, callback=None,\n",
      "\u001b[0;32m~/.conda/envs/kaggle/lib/python3.7/multiprocessing/pool.py\u001b[0m in \u001b[0;36mget\u001b[0;34m(self, timeout)\u001b[0m\n\u001b[1;32m    649\u001b[0m \u001b[0;34m\u001b[0m\u001b[0m\n\u001b[1;32m    650\u001b[0m     \u001b[0;32mdef\u001b[0m \u001b[0mget\u001b[0m\u001b[0;34m(\u001b[0m\u001b[0mself\u001b[0m\u001b[0;34m,\u001b[0m \u001b[0mtimeout\u001b[0m\u001b[0;34m=\u001b[0m\u001b[0;32mNone\u001b[0m\u001b[0;34m)\u001b[0m\u001b[0;34m:\u001b[0m\u001b[0;34m\u001b[0m\u001b[0;34m\u001b[0m\u001b[0m\n\u001b[0;32m--> 651\u001b[0;31m         \u001b[0mself\u001b[0m\u001b[0;34m.\u001b[0m\u001b[0mwait\u001b[0m\u001b[0;34m(\u001b[0m\u001b[0mtimeout\u001b[0m\u001b[0;34m)\u001b[0m\u001b[0;34m\u001b[0m\u001b[0;34m\u001b[0m\u001b[0m\n\u001b[0m\u001b[1;32m    652\u001b[0m         \u001b[0;32mif\u001b[0m \u001b[0;32mnot\u001b[0m \u001b[0mself\u001b[0m\u001b[0;34m.\u001b[0m\u001b[0mready\u001b[0m\u001b[0;34m(\u001b[0m\u001b[0;34m)\u001b[0m\u001b[0;34m:\u001b[0m\u001b[0;34m\u001b[0m\u001b[0;34m\u001b[0m\u001b[0m\n\u001b[1;32m    653\u001b[0m             \u001b[0;32mraise\u001b[0m \u001b[0mTimeoutError\u001b[0m\u001b[0;34m\u001b[0m\u001b[0;34m\u001b[0m\u001b[0m\n",
      "\u001b[0;32m~/.conda/envs/kaggle/lib/python3.7/multiprocessing/pool.py\u001b[0m in \u001b[0;36mwait\u001b[0;34m(self, timeout)\u001b[0m\n\u001b[1;32m    646\u001b[0m \u001b[0;34m\u001b[0m\u001b[0m\n\u001b[1;32m    647\u001b[0m     \u001b[0;32mdef\u001b[0m \u001b[0mwait\u001b[0m\u001b[0;34m(\u001b[0m\u001b[0mself\u001b[0m\u001b[0;34m,\u001b[0m \u001b[0mtimeout\u001b[0m\u001b[0;34m=\u001b[0m\u001b[0;32mNone\u001b[0m\u001b[0;34m)\u001b[0m\u001b[0;34m:\u001b[0m\u001b[0;34m\u001b[0m\u001b[0;34m\u001b[0m\u001b[0m\n\u001b[0;32m--> 648\u001b[0;31m         \u001b[0mself\u001b[0m\u001b[0;34m.\u001b[0m\u001b[0m_event\u001b[0m\u001b[0;34m.\u001b[0m\u001b[0mwait\u001b[0m\u001b[0;34m(\u001b[0m\u001b[0mtimeout\u001b[0m\u001b[0;34m)\u001b[0m\u001b[0;34m\u001b[0m\u001b[0;34m\u001b[0m\u001b[0m\n\u001b[0m\u001b[1;32m    649\u001b[0m \u001b[0;34m\u001b[0m\u001b[0m\n\u001b[1;32m    650\u001b[0m     \u001b[0;32mdef\u001b[0m \u001b[0mget\u001b[0m\u001b[0;34m(\u001b[0m\u001b[0mself\u001b[0m\u001b[0;34m,\u001b[0m \u001b[0mtimeout\u001b[0m\u001b[0;34m=\u001b[0m\u001b[0;32mNone\u001b[0m\u001b[0;34m)\u001b[0m\u001b[0;34m:\u001b[0m\u001b[0;34m\u001b[0m\u001b[0;34m\u001b[0m\u001b[0m\n",
      "\u001b[0;32m~/.conda/envs/kaggle/lib/python3.7/threading.py\u001b[0m in \u001b[0;36mwait\u001b[0;34m(self, timeout)\u001b[0m\n\u001b[1;32m    550\u001b[0m             \u001b[0msignaled\u001b[0m \u001b[0;34m=\u001b[0m \u001b[0mself\u001b[0m\u001b[0;34m.\u001b[0m\u001b[0m_flag\u001b[0m\u001b[0;34m\u001b[0m\u001b[0;34m\u001b[0m\u001b[0m\n\u001b[1;32m    551\u001b[0m             \u001b[0;32mif\u001b[0m \u001b[0;32mnot\u001b[0m \u001b[0msignaled\u001b[0m\u001b[0;34m:\u001b[0m\u001b[0;34m\u001b[0m\u001b[0;34m\u001b[0m\u001b[0m\n\u001b[0;32m--> 552\u001b[0;31m                 \u001b[0msignaled\u001b[0m \u001b[0;34m=\u001b[0m \u001b[0mself\u001b[0m\u001b[0;34m.\u001b[0m\u001b[0m_cond\u001b[0m\u001b[0;34m.\u001b[0m\u001b[0mwait\u001b[0m\u001b[0;34m(\u001b[0m\u001b[0mtimeout\u001b[0m\u001b[0;34m)\u001b[0m\u001b[0;34m\u001b[0m\u001b[0;34m\u001b[0m\u001b[0m\n\u001b[0m\u001b[1;32m    553\u001b[0m             \u001b[0;32mreturn\u001b[0m \u001b[0msignaled\u001b[0m\u001b[0;34m\u001b[0m\u001b[0;34m\u001b[0m\u001b[0m\n\u001b[1;32m    554\u001b[0m \u001b[0;34m\u001b[0m\u001b[0m\n",
      "\u001b[0;32m~/.conda/envs/kaggle/lib/python3.7/threading.py\u001b[0m in \u001b[0;36mwait\u001b[0;34m(self, timeout)\u001b[0m\n\u001b[1;32m    294\u001b[0m         \u001b[0;32mtry\u001b[0m\u001b[0;34m:\u001b[0m    \u001b[0;31m# restore state no matter what (e.g., KeyboardInterrupt)\u001b[0m\u001b[0;34m\u001b[0m\u001b[0;34m\u001b[0m\u001b[0m\n\u001b[1;32m    295\u001b[0m             \u001b[0;32mif\u001b[0m \u001b[0mtimeout\u001b[0m \u001b[0;32mis\u001b[0m \u001b[0;32mNone\u001b[0m\u001b[0;34m:\u001b[0m\u001b[0;34m\u001b[0m\u001b[0;34m\u001b[0m\u001b[0m\n\u001b[0;32m--> 296\u001b[0;31m                 \u001b[0mwaiter\u001b[0m\u001b[0;34m.\u001b[0m\u001b[0macquire\u001b[0m\u001b[0;34m(\u001b[0m\u001b[0;34m)\u001b[0m\u001b[0;34m\u001b[0m\u001b[0;34m\u001b[0m\u001b[0m\n\u001b[0m\u001b[1;32m    297\u001b[0m                 \u001b[0mgotit\u001b[0m \u001b[0;34m=\u001b[0m \u001b[0;32mTrue\u001b[0m\u001b[0;34m\u001b[0m\u001b[0;34m\u001b[0m\u001b[0m\n\u001b[1;32m    298\u001b[0m             \u001b[0;32melse\u001b[0m\u001b[0;34m:\u001b[0m\u001b[0;34m\u001b[0m\u001b[0;34m\u001b[0m\u001b[0m\n",
      "\u001b[0;31mKeyboardInterrupt\u001b[0m: "
     ]
    }
   ],
   "source": [
    "for generation in range(10, NUM_GENERATION):\n",
    "    assert cont.__name__ == 'global'\n",
    "\n",
    "    print(\"Generation:: {}..\".format(generation + 1))\n",
    "    solutions = es.ask(48)\n",
    "\n",
    "    function_values = [get_reward_for_solution(s) for s in solutions]\n",
    "\n",
    "    if -min(function_values) > curr_best_score:\n",
    "        curr_best_score = -min(function_values)\n",
    "        torch.save(cont, \"modelsv2/controller-best-v2.pt\")\n",
    "        print(\"Best saved with reward {}\".format(-min(function_values)))\n",
    "\n",
    "    if generation%10==0:\n",
    "        torch.save(cont, \"modelsv2/controller-generation-{}-v2.pt\".format(generation))\n",
    "        print(\"Model saved as: modelsv2/controller-generation-{}-v2.pt\".format(generation))\n",
    "\n",
    "    es.tell(solutions, function_values)\n",
    "    es.logger.add()\n",
    "    es.disp()\n",
    "\n",
    "torch.save(cont, \"models/controller-generation-last\")"
   ]
  },
  {
   "cell_type": "code",
   "execution_count": 14,
   "metadata": {},
   "outputs": [],
   "source": [
    "load_param(cont, es.result[0])\n",
    "torch.save(cont, \"modelsv2/controller-best-v2.pt\")"
   ]
  },
  {
   "cell_type": "code",
   "execution_count": null,
   "metadata": {},
   "outputs": [],
   "source": []
  }
 ],
 "metadata": {
  "kernelspec": {
   "display_name": "Python 3",
   "language": "python",
   "name": "python3"
  },
  "language_info": {
   "codemirror_mode": {
    "name": "ipython",
    "version": 3
   },
   "file_extension": ".py",
   "mimetype": "text/x-python",
   "name": "python",
   "nbconvert_exporter": "python",
   "pygments_lexer": "ipython3",
   "version": "3.7.3"
  }
 },
 "nbformat": 4,
 "nbformat_minor": 4
}
